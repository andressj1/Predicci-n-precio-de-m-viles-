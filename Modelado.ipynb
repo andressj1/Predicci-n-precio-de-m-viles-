{
 "cells": [
  {
   "cell_type": "code",
   "execution_count": 21,
   "metadata": {},
   "outputs": [],
   "source": [
    "#--Librerias--#\n",
    "import pandas as pd \n",
    "from sklearn.model_selection import RandomizedSearchCV # búsqueda aleatoria de hiperparámetros \n",
    "import joblib  ### para guardar y cargar modelos\n",
    "from sklearn.preprocessing import StandardScaler ## escalar variables \n",
    "from sklearn.feature_selection import SelectKBest, f_classif,chi2\n",
    "from sklearn.model_selection import train_test_split\n",
    "from sklearn.linear_model import LogisticRegression # Regresión logística\n",
    "from sklearn.ensemble import RandomForestClassifier  # Clasificador bosques aleatoriost \n",
    "from sklearn.tree import DecisionTreeClassifier # Arboles de decision \n",
    "from sklearn.model_selection import cross_val_predict, cross_val_score, cross_validate\n",
    "from sklearn.preprocessing import StandardScaler ## escalar variable\n",
    "from sklearn.feature_selection import RFE\n",
    "from sklearn.ensemble import GradientBoostingClassifier #Modelo de clasificacion\n",
    "from sklearn.metrics import confusion_matrix #### Matriz de confusion \n",
    "from sklearn.feature_selection import VarianceThreshold\n",
    "import seaborn as sns #####Graficos\n",
    "from sklearn.metrics import accuracy_score #### medir precision del modelo \n",
    "import funciones as funciones"
   ]
  },
  {
   "cell_type": "code",
   "execution_count": 2,
   "metadata": {},
   "outputs": [],
   "source": [
    "###----Lectura de datos----###\n",
    "df = pd.read_csv(\"https://raw.githubusercontent.com/andressj1/Predicci-n-precio-de-m-viles-/refs/heads/main/Datos/df_fin\", sep=\",\")"
   ]
  },
  {
   "cell_type": "markdown",
   "metadata": {},
   "source": [
    "# Dummies"
   ]
  },
  {
   "cell_type": "code",
   "execution_count": 3,
   "metadata": {},
   "outputs": [],
   "source": [
    "# Conversion; categoricas a dummies\n",
    "df = pd.get_dummies(df, dtype = int)"
   ]
  },
  {
   "cell_type": "code",
   "execution_count": 16,
   "metadata": {},
   "outputs": [
    {
     "name": "stdout",
     "output_type": "stream",
     "text": [
      "(1958, 20)\n",
      "(1958,)\n"
     ]
    }
   ],
   "source": [
    "# Separamos variables explicativas - variable objetivo\n",
    "X = df.drop('price_range',axis=1)\n",
    "y = df['price_range']\n",
    "\n",
    "print(X.shape)\n",
    "print(y.shape)"
   ]
  },
  {
   "cell_type": "markdown",
   "metadata": {},
   "source": [
    "# Selección de variables"
   ]
  },
  {
   "cell_type": "markdown",
   "metadata": {},
   "source": [
    "SelectKBest"
   ]
  },
  {
   "cell_type": "markdown",
   "metadata": {},
   "source": [
    "*Anova*"
   ]
  },
  {
   "cell_type": "code",
   "execution_count": 19,
   "metadata": {},
   "outputs": [],
   "source": [
    "def select_kbest(X,y,score_f,k):\n",
    "    sel_kb = SelectKBest(score_func = score_f,k = k)\n",
    "    sel_kb.fit(X,y)\n",
    "    new_cols= sel_kb.get_support()\n",
    "    print('Score:\\n', sel_kb.scores_, '\\n P-values:\\n', sel_kb.pvalues_)\n",
    "    return new_cols"
   ]
  },
  {
   "cell_type": "code",
   "execution_count": 20,
   "metadata": {},
   "outputs": [
    {
     "name": "stdout",
     "output_type": "stream",
     "text": [
      "Score:\n",
      " [3.04920741e+01 3.35331284e-01 4.73780055e-01 8.91551611e-01\n",
      " 1.22199528e+00 2.65059108e+00 1.50954726e+00 2.36569050e+00\n",
      " 2.14732848e+01 1.47207299e+00 1.24648562e+00 3.02326974e-01\n",
      " 1.54145222e+00 4.46116343e-01 2.77073594e+00 1.46647684e+03\n",
      " 3.42825322e+02 1.26160727e+03 2.76292181e+00 2.61039561e+00] \n",
      " P-values:\n",
      " [2.91490524e-019 7.99802009e-001 7.00575996e-001 4.44747836e-001\n",
      " 3.00169037e-001 4.73176669e-002 2.10110111e-001 6.92057977e-002\n",
      " 1.10460631e-013 2.20241669e-001 2.91318804e-001 8.23737633e-001\n",
      " 2.01826723e-001 7.20074873e-001 4.02617550e-002 0.00000000e+000\n",
      " 7.73411198e-179 0.00000000e+000 4.06876088e-002 4.99371431e-002]\n"
     ]
    },
    {
     "data": {
      "text/html": [
       "<div>\n",
       "<style scoped>\n",
       "    .dataframe tbody tr th:only-of-type {\n",
       "        vertical-align: middle;\n",
       "    }\n",
       "\n",
       "    .dataframe tbody tr th {\n",
       "        vertical-align: top;\n",
       "    }\n",
       "\n",
       "    .dataframe thead th {\n",
       "        text-align: right;\n",
       "    }\n",
       "</style>\n",
       "<table border=\"1\" class=\"dataframe\">\n",
       "  <thead>\n",
       "    <tr style=\"text-align: right;\">\n",
       "      <th></th>\n",
       "      <th>battery_power</th>\n",
       "      <th>four_g</th>\n",
       "      <th>int_memory</th>\n",
       "      <th>m_dep</th>\n",
       "      <th>n_cores</th>\n",
       "      <th>px_width</th>\n",
       "      <th>talk_time</th>\n",
       "      <th>touch_screen</th>\n",
       "      <th>tamaño_grande</th>\n",
       "      <th>tamaño_pequeño</th>\n",
       "      <th>ram_cat_2GB</th>\n",
       "      <th>ram_cat_3GB</th>\n",
       "      <th>ram_cat_4GB</th>\n",
       "      <th>mobile_wt_cat_liviano</th>\n",
       "      <th>mobile_wt_cat_pesado</th>\n",
       "    </tr>\n",
       "  </thead>\n",
       "  <tbody>\n",
       "    <tr>\n",
       "      <th>0</th>\n",
       "      <td>842</td>\n",
       "      <td>0</td>\n",
       "      <td>7</td>\n",
       "      <td>0.6</td>\n",
       "      <td>2</td>\n",
       "      <td>756</td>\n",
       "      <td>19</td>\n",
       "      <td>0</td>\n",
       "      <td>0</td>\n",
       "      <td>1</td>\n",
       "      <td>0</td>\n",
       "      <td>1</td>\n",
       "      <td>0</td>\n",
       "      <td>0</td>\n",
       "      <td>1</td>\n",
       "    </tr>\n",
       "    <tr>\n",
       "      <th>1</th>\n",
       "      <td>1021</td>\n",
       "      <td>1</td>\n",
       "      <td>53</td>\n",
       "      <td>0.7</td>\n",
       "      <td>3</td>\n",
       "      <td>1988</td>\n",
       "      <td>7</td>\n",
       "      <td>1</td>\n",
       "      <td>1</td>\n",
       "      <td>0</td>\n",
       "      <td>0</td>\n",
       "      <td>1</td>\n",
       "      <td>0</td>\n",
       "      <td>1</td>\n",
       "      <td>0</td>\n",
       "    </tr>\n",
       "    <tr>\n",
       "      <th>2</th>\n",
       "      <td>563</td>\n",
       "      <td>1</td>\n",
       "      <td>41</td>\n",
       "      <td>0.9</td>\n",
       "      <td>5</td>\n",
       "      <td>1716</td>\n",
       "      <td>9</td>\n",
       "      <td>1</td>\n",
       "      <td>0</td>\n",
       "      <td>0</td>\n",
       "      <td>0</td>\n",
       "      <td>1</td>\n",
       "      <td>0</td>\n",
       "      <td>0</td>\n",
       "      <td>1</td>\n",
       "    </tr>\n",
       "    <tr>\n",
       "      <th>3</th>\n",
       "      <td>615</td>\n",
       "      <td>0</td>\n",
       "      <td>10</td>\n",
       "      <td>0.8</td>\n",
       "      <td>6</td>\n",
       "      <td>1786</td>\n",
       "      <td>11</td>\n",
       "      <td>0</td>\n",
       "      <td>1</td>\n",
       "      <td>0</td>\n",
       "      <td>0</td>\n",
       "      <td>1</td>\n",
       "      <td>0</td>\n",
       "      <td>1</td>\n",
       "      <td>0</td>\n",
       "    </tr>\n",
       "    <tr>\n",
       "      <th>4</th>\n",
       "      <td>1821</td>\n",
       "      <td>1</td>\n",
       "      <td>44</td>\n",
       "      <td>0.6</td>\n",
       "      <td>2</td>\n",
       "      <td>1212</td>\n",
       "      <td>15</td>\n",
       "      <td>1</td>\n",
       "      <td>0</td>\n",
       "      <td>1</td>\n",
       "      <td>1</td>\n",
       "      <td>0</td>\n",
       "      <td>0</td>\n",
       "      <td>0</td>\n",
       "      <td>1</td>\n",
       "    </tr>\n",
       "  </tbody>\n",
       "</table>\n",
       "</div>"
      ],
      "text/plain": [
       "   battery_power  four_g  int_memory  m_dep  n_cores  px_width  talk_time  \\\n",
       "0            842       0           7    0.6        2       756         19   \n",
       "1           1021       1          53    0.7        3      1988          7   \n",
       "2            563       1          41    0.9        5      1716          9   \n",
       "3            615       0          10    0.8        6      1786         11   \n",
       "4           1821       1          44    0.6        2      1212         15   \n",
       "\n",
       "   touch_screen  tamaño_grande  tamaño_pequeño  ram_cat_2GB  ram_cat_3GB  \\\n",
       "0             0              0               1            0            1   \n",
       "1             1              1               0            0            1   \n",
       "2             1              0               0            0            1   \n",
       "3             0              1               0            0            1   \n",
       "4             1              0               1            1            0   \n",
       "\n",
       "   ram_cat_4GB  mobile_wt_cat_liviano  mobile_wt_cat_pesado  \n",
       "0            0                      0                     1  \n",
       "1            0                      1                     0  \n",
       "2            0                      0                     1  \n",
       "3            0                      1                     0  \n",
       "4            0                      0                     1  "
      ]
     },
     "execution_count": 20,
     "metadata": {},
     "output_type": "execute_result"
    }
   ],
   "source": [
    "X_new = select_kbest(X, y, f_classif, 15)\n",
    "# Nuevo conjunto de datos\n",
    "df_anova = X.iloc[:,X_new]\n",
    "df_anova.head()"
   ]
  },
  {
   "cell_type": "markdown",
   "metadata": {},
   "source": [
    "RFE"
   ]
  },
  {
   "cell_type": "code",
   "execution_count": 22,
   "metadata": {},
   "outputs": [],
   "source": [
    "# Función recursiva de selección de características\n",
    "def recursive_feature_selection(X, y, model, k):\n",
    "  rfe = RFE(model, n_features_to_select = k, step = 1)\n",
    "  fit = rfe.fit(X, y)\n",
    "  X_new = fit.support_\n",
    "  print(\"Num Features: %s\" % (fit.n_features_))\n",
    "  print(\"Selected Features: %s\" % (fit.support_))\n",
    "  print(\"Feature Ranking: %s\" % (fit.ranking_))\n",
    "\n",
    "  return X_new"
   ]
  },
  {
   "cell_type": "markdown",
   "metadata": {},
   "source": [
    "*Regresión Logistica*"
   ]
  },
  {
   "cell_type": "code",
   "execution_count": 23,
   "metadata": {},
   "outputs": [
    {
     "name": "stderr",
     "output_type": "stream",
     "text": [
      "c:\\ProgramData\\anaconda3\\Lib\\site-packages\\sklearn\\linear_model\\_logistic.py:469: ConvergenceWarning: lbfgs failed to converge (status=1):\n",
      "STOP: TOTAL NO. of ITERATIONS REACHED LIMIT.\n",
      "\n",
      "Increase the number of iterations (max_iter) or scale the data as shown in:\n",
      "    https://scikit-learn.org/stable/modules/preprocessing.html\n",
      "Please also refer to the documentation for alternative solver options:\n",
      "    https://scikit-learn.org/stable/modules/linear_model.html#logistic-regression\n",
      "  n_iter_i = _check_optimize_result(\n",
      "c:\\ProgramData\\anaconda3\\Lib\\site-packages\\sklearn\\linear_model\\_logistic.py:469: ConvergenceWarning: lbfgs failed to converge (status=1):\n",
      "STOP: TOTAL NO. of ITERATIONS REACHED LIMIT.\n",
      "\n",
      "Increase the number of iterations (max_iter) or scale the data as shown in:\n",
      "    https://scikit-learn.org/stable/modules/preprocessing.html\n",
      "Please also refer to the documentation for alternative solver options:\n",
      "    https://scikit-learn.org/stable/modules/linear_model.html#logistic-regression\n",
      "  n_iter_i = _check_optimize_result(\n",
      "c:\\ProgramData\\anaconda3\\Lib\\site-packages\\sklearn\\linear_model\\_logistic.py:469: ConvergenceWarning: lbfgs failed to converge (status=1):\n",
      "STOP: TOTAL NO. of ITERATIONS REACHED LIMIT.\n",
      "\n",
      "Increase the number of iterations (max_iter) or scale the data as shown in:\n",
      "    https://scikit-learn.org/stable/modules/preprocessing.html\n",
      "Please also refer to the documentation for alternative solver options:\n",
      "    https://scikit-learn.org/stable/modules/linear_model.html#logistic-regression\n",
      "  n_iter_i = _check_optimize_result(\n"
     ]
    },
    {
     "name": "stdout",
     "output_type": "stream",
     "text": [
      "Num Features: 15\n",
      "Selected Features: [False  True  True False  True False  True  True False False  True  True\n",
      "  True  True  True  True  True  True  True  True]\n",
      "Feature Ranking: [5 1 1 3 1 4 1 1 6 2 1 1 1 1 1 1 1 1 1 1]\n",
      "<class 'pandas.core.frame.DataFrame'>\n",
      "RangeIndex: 1958 entries, 0 to 1957\n",
      "Data columns (total 15 columns):\n",
      " #   Column                 Non-Null Count  Dtype  \n",
      "---  ------                 --------------  -----  \n",
      " 0   blue                   1958 non-null   int64  \n",
      " 1   dual_sim               1958 non-null   int64  \n",
      " 2   four_g                 1958 non-null   int64  \n",
      " 3   m_dep                  1958 non-null   float64\n",
      " 4   n_cores                1958 non-null   int64  \n",
      " 5   touch_screen           1958 non-null   int64  \n",
      " 6   wifi                   1958 non-null   int64  \n",
      " 7   tamaño_grande          1958 non-null   int32  \n",
      " 8   tamaño_normal          1958 non-null   int32  \n",
      " 9   tamaño_pequeño         1958 non-null   int32  \n",
      " 10  ram_cat_2GB            1958 non-null   int32  \n",
      " 11  ram_cat_3GB            1958 non-null   int32  \n",
      " 12  ram_cat_4GB            1958 non-null   int32  \n",
      " 13  mobile_wt_cat_liviano  1958 non-null   int32  \n",
      " 14  mobile_wt_cat_pesado   1958 non-null   int32  \n",
      "dtypes: float64(1), int32(8), int64(6)\n",
      "memory usage: 168.4 KB\n"
     ]
    }
   ],
   "source": [
    "model= LogisticRegression(max_iter = 1000,random_state = 42)\n",
    "X_new=recursive_feature_selection(X, y, model, 15)\n",
    "df_log = X.iloc[:,X_new]\n",
    "df_log.info()"
   ]
  },
  {
   "cell_type": "markdown",
   "metadata": {},
   "source": [
    "*Random Forest*"
   ]
  },
  {
   "cell_type": "code",
   "execution_count": 24,
   "metadata": {},
   "outputs": [
    {
     "name": "stdout",
     "output_type": "stream",
     "text": [
      "Num Features: 15\n",
      "Selected Features: [ True  True False  True  True  True  True  True  True  True  True  True\n",
      " False False False  True  True  True False  True]\n",
      "Feature Ranking: [1 1 3 1 1 1 1 1 1 1 1 1 6 4 2 1 1 1 5 1]\n",
      "<class 'pandas.core.frame.DataFrame'>\n",
      "RangeIndex: 1958 entries, 0 to 1957\n",
      "Data columns (total 15 columns):\n",
      " #   Column                Non-Null Count  Dtype  \n",
      "---  ------                --------------  -----  \n",
      " 0   battery_power         1958 non-null   int64  \n",
      " 1   blue                  1958 non-null   int64  \n",
      " 2   fc                    1958 non-null   int64  \n",
      " 3   four_g                1958 non-null   int64  \n",
      " 4   int_memory            1958 non-null   int64  \n",
      " 5   m_dep                 1958 non-null   float64\n",
      " 6   n_cores               1958 non-null   int64  \n",
      " 7   px_width              1958 non-null   int64  \n",
      " 8   talk_time             1958 non-null   int64  \n",
      " 9   touch_screen          1958 non-null   int64  \n",
      " 10  wifi                  1958 non-null   int64  \n",
      " 11  ram_cat_2GB           1958 non-null   int32  \n",
      " 12  ram_cat_3GB           1958 non-null   int32  \n",
      " 13  ram_cat_4GB           1958 non-null   int32  \n",
      " 14  mobile_wt_cat_pesado  1958 non-null   int32  \n",
      "dtypes: float64(1), int32(4), int64(10)\n",
      "memory usage: 199.0 KB\n"
     ]
    }
   ],
   "source": [
    "model = RandomForestClassifier(n_estimators=300,random_state=42,n_jobs=-1)\n",
    "X_new = recursive_feature_selection(X,y,model,15)\n",
    "df_ranfor = X.iloc[:,X_new]\n",
    "df_ranfor.info()"
   ]
  },
  {
   "cell_type": "code",
   "execution_count": null,
   "metadata": {},
   "outputs": [],
   "source": []
  }
 ],
 "metadata": {
  "kernelspec": {
   "display_name": "base",
   "language": "python",
   "name": "python3"
  },
  "language_info": {
   "codemirror_mode": {
    "name": "ipython",
    "version": 3
   },
   "file_extension": ".py",
   "mimetype": "text/x-python",
   "name": "python",
   "nbconvert_exporter": "python",
   "pygments_lexer": "ipython3",
   "version": "3.12.4"
  }
 },
 "nbformat": 4,
 "nbformat_minor": 2
}
