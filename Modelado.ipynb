{
 "cells": [
  {
   "cell_type": "code",
   "execution_count": 17,
   "metadata": {},
   "outputs": [],
   "source": [
    "#--Librerias--#\n",
    "import pandas as pd \n",
    "import numpy as np\n",
    "from sklearn.model_selection import RandomizedSearchCV # búsqueda aleatoria de hiperparámetros \n",
    "import joblib  ### para guardar y cargar modelos\n",
    "from sklearn.preprocessing import StandardScaler ## escalar variables \n",
    "from sklearn.feature_selection import SelectKBest, f_classif,chi2\n",
    "from sklearn.model_selection import train_test_split\n",
    "from sklearn.linear_model import LogisticRegression # Regresión logística\n",
    "from sklearn.ensemble import RandomForestClassifier  # Clasificador bosques aleatoriost \n",
    "from sklearn.tree import DecisionTreeClassifier # Arboles de decision \n",
    "from sklearn.model_selection import cross_val_predict, cross_val_score, cross_validate\n",
    "from sklearn.preprocessing import StandardScaler ## escalar variable\n",
    "from sklearn.feature_selection import RFE\n",
    "from sklearn.ensemble import GradientBoostingClassifier #Modelo de clasificacion\n",
    "from sklearn.metrics import confusion_matrix #### Matriz de confusion \n",
    "from sklearn.feature_selection import VarianceThreshold\n",
    "import seaborn as sns #####Graficos\n",
    "from sklearn.metrics import accuracy_score #### medir precision del modelo \n",
    "from sklearn.feature_selection import SelectFromModel\n",
    "from sklearn.linear_model import RidgeClassifier\n",
    "import funciones\n"
   ]
  },
  {
   "cell_type": "code",
   "execution_count": 2,
   "metadata": {},
   "outputs": [],
   "source": [
    "###----Lectura de datos----###\n",
    "df = pd.read_csv(\"https://raw.githubusercontent.com/andressj1/Predicci-n-precio-de-m-viles-/refs/heads/main/Datos/df_fin\", sep=\",\")"
   ]
  },
  {
   "cell_type": "markdown",
   "metadata": {},
   "source": [
    "# Dummies"
   ]
  },
  {
   "cell_type": "code",
   "execution_count": 3,
   "metadata": {},
   "outputs": [],
   "source": [
    "# Conversion; categoricas a dummies\n",
    "df = pd.get_dummies(df, dtype = int)"
   ]
  },
  {
   "cell_type": "code",
   "execution_count": 4,
   "metadata": {},
   "outputs": [
    {
     "name": "stdout",
     "output_type": "stream",
     "text": [
      "(1958, 20)\n",
      "(1958,)\n"
     ]
    }
   ],
   "source": [
    "# Separamos variables explicativas - variable objetivo\n",
    "X = df.drop('price_range',axis=1)\n",
    "y = df['price_range']\n",
    "\n",
    "print(X.shape)\n",
    "print(y.shape)"
   ]
  },
  {
   "cell_type": "markdown",
   "metadata": {},
   "source": [
    "# Selección de variables"
   ]
  },
  {
   "cell_type": "code",
   "execution_count": 5,
   "metadata": {},
   "outputs": [],
   "source": [
    "### Modelos\n",
    "m_rl = LogisticRegression() \n",
    "m_rf = RandomForestClassifier()\n",
    "m_gbc = GradientBoostingClassifier()"
   ]
  },
  {
   "cell_type": "markdown",
   "metadata": {},
   "source": [
    "*1. Selec From Model*\n"
   ]
  },
  {
   "cell_type": "markdown",
   "metadata": {},
   "source": [
    "*1.1. Ridge Classifier*"
   ]
  },
  {
   "cell_type": "code",
   "execution_count": 6,
   "metadata": {},
   "outputs": [
    {
     "name": "stdout",
     "output_type": "stream",
     "text": [
      "[[-3.37135427e-04 -7.94395112e-03 -7.59286402e-03 -1.86900918e-03\n",
      "   1.65311456e-02 -1.75401406e-04 -9.62612774e-02  9.17783901e-03\n",
      "  -2.73335634e-04 -4.79027085e-03  1.50232208e-02 -7.93439099e-03\n",
      "   8.78656103e-03  3.34850320e-02  2.05425412e-02  7.34641963e-01\n",
      "  -3.81707370e-01 -3.52934593e-01  8.42247033e-03 -4.30226468e-03]\n",
      " [-3.29565844e-05  8.89185631e-03  3.35610390e-02  8.68136639e-04\n",
      "   2.17344703e-02  5.01204523e-04  1.20154782e-01 -2.10222076e-02\n",
      "  -8.52644735e-06  5.44716889e-03  1.91767822e-02  5.06810827e-03\n",
      "  -4.24599548e-02 -7.51967363e-02 -5.69430634e-02  3.50614851e-01\n",
      "   7.76342675e-02 -4.28249119e-01  2.14170197e-01  2.08180299e-01]\n",
      " [ 3.18866778e-05 -7.90745498e-03 -1.36934749e-02  4.02178344e-03\n",
      "  -6.35453246e-02 -1.52939222e-03 -7.33368229e-03  1.01815778e-02\n",
      "  -1.48961716e-05 -1.92119234e-03 -6.52614624e-02 -1.62948560e-02\n",
      "  -1.21418086e-02  3.42817027e-03  5.85279146e-02 -4.50757411e-01\n",
      "   6.81564273e-01 -2.30806862e-01 -2.33633969e-01 -1.31297015e-01]\n",
      " [ 3.38205333e-04  6.95954980e-03 -1.22747001e-02 -3.02091091e-03\n",
      "   2.52797087e-02  1.20358910e-03 -1.65598226e-02  1.66279080e-03\n",
      "   2.96758253e-04  1.26429430e-03  3.10614595e-02  1.91611387e-02\n",
      "   4.58152024e-02  3.82835341e-02 -2.21273924e-02 -6.34499404e-01\n",
      "  -3.77491171e-01  1.01199057e+00  1.10413019e-02 -7.25810201e-02]]\n",
      "<class 'pandas.core.frame.DataFrame'>\n",
      "RangeIndex: 1958 entries, 0 to 1957\n",
      "Data columns (total 5 columns):\n",
      " #   Column                 Non-Null Count  Dtype\n",
      "---  ------                 --------------  -----\n",
      " 0   ram_cat_2GB            1958 non-null   int32\n",
      " 1   ram_cat_3GB            1958 non-null   int32\n",
      " 2   ram_cat_4GB            1958 non-null   int32\n",
      " 3   mobile_wt_cat_liviano  1958 non-null   int32\n",
      " 4   mobile_wt_cat_pesado   1958 non-null   int32\n",
      "dtypes: int32(5)\n",
      "memory usage: 38.4 KB\n"
     ]
    }
   ],
   "source": [
    "# Selector de variables con Ridge\n",
    "sel_ = SelectFromModel(RidgeClassifier(alpha = 0.1, random_state = 24), max_features = 20)\n",
    "sel_.fit(X, y)\n",
    "print(sel_.estimator_.coef_)\n",
    "#Obtener variables seleccionadas\n",
    "X_new = sel_.get_support()\n",
    "\n",
    "df_ridge = X.iloc[:,X_new]\n",
    "df_ridge.info()"
   ]
  },
  {
   "cell_type": "markdown",
   "metadata": {},
   "source": [
    "*1.2. Gradient Boosting*"
   ]
  },
  {
   "cell_type": "code",
   "execution_count": 7,
   "metadata": {},
   "outputs": [
    {
     "name": "stdout",
     "output_type": "stream",
     "text": [
      "[0.17455475 0.00117526 0.00141278 0.01515969 0.00336483 0.03035032\n",
      " 0.0100731  0.00922583 0.13494548 0.02227413 0.00290676 0.00096382\n",
      " 0.00089498 0.00338788 0.00254654 0.1805043  0.12019519 0.28002119\n",
      " 0.00242055 0.00362263]\n"
     ]
    },
    {
     "data": {
      "text/html": [
       "<div>\n",
       "<style scoped>\n",
       "    .dataframe tbody tr th:only-of-type {\n",
       "        vertical-align: middle;\n",
       "    }\n",
       "\n",
       "    .dataframe tbody tr th {\n",
       "        vertical-align: top;\n",
       "    }\n",
       "\n",
       "    .dataframe thead th {\n",
       "        text-align: right;\n",
       "    }\n",
       "</style>\n",
       "<table border=\"1\" class=\"dataframe\">\n",
       "  <thead>\n",
       "    <tr style=\"text-align: right;\">\n",
       "      <th></th>\n",
       "      <th>battery_power</th>\n",
       "      <th>px_width</th>\n",
       "      <th>ram_cat_2GB</th>\n",
       "      <th>ram_cat_3GB</th>\n",
       "      <th>ram_cat_4GB</th>\n",
       "    </tr>\n",
       "  </thead>\n",
       "  <tbody>\n",
       "    <tr>\n",
       "      <th>0</th>\n",
       "      <td>842</td>\n",
       "      <td>756</td>\n",
       "      <td>0</td>\n",
       "      <td>1</td>\n",
       "      <td>0</td>\n",
       "    </tr>\n",
       "    <tr>\n",
       "      <th>1</th>\n",
       "      <td>1021</td>\n",
       "      <td>1988</td>\n",
       "      <td>0</td>\n",
       "      <td>1</td>\n",
       "      <td>0</td>\n",
       "    </tr>\n",
       "    <tr>\n",
       "      <th>2</th>\n",
       "      <td>563</td>\n",
       "      <td>1716</td>\n",
       "      <td>0</td>\n",
       "      <td>1</td>\n",
       "      <td>0</td>\n",
       "    </tr>\n",
       "    <tr>\n",
       "      <th>3</th>\n",
       "      <td>615</td>\n",
       "      <td>1786</td>\n",
       "      <td>0</td>\n",
       "      <td>1</td>\n",
       "      <td>0</td>\n",
       "    </tr>\n",
       "    <tr>\n",
       "      <th>4</th>\n",
       "      <td>1821</td>\n",
       "      <td>1212</td>\n",
       "      <td>1</td>\n",
       "      <td>0</td>\n",
       "      <td>0</td>\n",
       "    </tr>\n",
       "  </tbody>\n",
       "</table>\n",
       "</div>"
      ],
      "text/plain": [
       "   battery_power  px_width  ram_cat_2GB  ram_cat_3GB  ram_cat_4GB\n",
       "0            842       756            0            1            0\n",
       "1           1021      1988            0            1            0\n",
       "2            563      1716            0            1            0\n",
       "3            615      1786            0            1            0\n",
       "4           1821      1212            1            0            0"
      ]
     },
     "execution_count": 7,
     "metadata": {},
     "output_type": "execute_result"
    }
   ],
   "source": [
    "# Selector de variables con Gradient Boosting\n",
    "sel_ = SelectFromModel(GradientBoostingClassifier(n_estimators = 300, random_state=42))\n",
    "sel_.fit(X, y)\n",
    "print(sel_.estimator_.feature_importances_)\n",
    "#Obtener variables seleccionadas\n",
    "X_new = sel_.get_support()\n",
    "\n",
    "df_gb = X.iloc[:,X_new]\n",
    "df_gb.head()"
   ]
  },
  {
   "cell_type": "code",
   "execution_count": 19,
   "metadata": {},
   "outputs": [
    {
     "name": "stdout",
     "output_type": "stream",
     "text": [
      "------------------------------ TRAIN ------------------------------\n",
      "              precision    recall  f1-score   support\n",
      "\n",
      "           0       1.00      1.00      1.00       391\n",
      "           1       0.93      0.89      0.91       393\n",
      "           2       0.79      0.80      0.79       383\n",
      "           3       0.88      0.90      0.89       399\n",
      "\n",
      "    accuracy                           0.90      1566\n",
      "   macro avg       0.90      0.90      0.90      1566\n",
      "weighted avg       0.90      0.90      0.90      1566\n",
      "\n",
      "------------------------------ TEST ------------------------------\n",
      "              precision    recall  f1-score   support\n",
      "\n",
      "           0       1.00      1.00      1.00       100\n",
      "           1       0.90      0.94      0.92        93\n",
      "           2       0.79      0.78      0.78       107\n",
      "           3       0.84      0.83      0.84        92\n",
      "\n",
      "    accuracy                           0.88       392\n",
      "   macro avg       0.88      0.88      0.88       392\n",
      "weighted avg       0.88      0.88      0.88       392\n",
      "\n"
     ]
    },
    {
     "name": "stderr",
     "output_type": "stream",
     "text": [
      "c:\\ProgramData\\anaconda3\\Lib\\site-packages\\sklearn\\linear_model\\_logistic.py:469: ConvergenceWarning: lbfgs failed to converge (status=1):\n",
      "STOP: TOTAL NO. of ITERATIONS REACHED LIMIT.\n",
      "\n",
      "Increase the number of iterations (max_iter) or scale the data as shown in:\n",
      "    https://scikit-learn.org/stable/modules/preprocessing.html\n",
      "Please also refer to the documentation for alternative solver options:\n",
      "    https://scikit-learn.org/stable/modules/linear_model.html#logistic-regression\n",
      "  n_iter_i = _check_optimize_result(\n"
     ]
    }
   ],
   "source": [
    " from sklearn.metrics import confusion_matrix, classification_report\n",
    " # Dividir los datos en conjunto de entrenamiento y prueba\n",
    "X_train, X_test, y_train, y_test = train_test_split(df, y, test_size=0.2, random_state=42)\n",
    "\n",
    "    # Entrenar el modelo de regresión logística\n",
    "lr = LogisticRegression(max_iter=1000, class_weight=\"balanced\", multi_class='multinomial', solver='lbfgs', random_state=42)\n",
    "lr.fit(X_train, y_train)\n",
    "\n",
    "    # Predicciones\n",
    "y_pred_train = lr.predict(X_train)\n",
    "y_pred_test = lr.predict(X_test)\n",
    "y_pred_prob_train = lr.predict_proba(X_train)\n",
    "y_pred_prob_test = lr.predict_proba(X_test)\n",
    "\n",
    "    # Métricas para el conjunto de entrenamiento\n",
    "print('-' * 30, 'TRAIN', '-' * 30)\n",
    "print(classification_report(y_train, y_pred_train))\n",
    "\n",
    "    # Métricas para el conjunto de prueba\n",
    "print('-' * 30, 'TEST', '-' * 30)\n",
    "print(classification_report(y_test, y_pred_test))\n",
    "\n",
    "resultados = {\n",
    "        'X_train': X_train,\n",
    "        'X_test': X_test,\n",
    "        'y_train': y_train,\n",
    "        'y_test': y_test,\n",
    "        'y_pred_train': y_pred_train,\n",
    "        'y_pred_test': y_pred_test,\n",
    "        'y_pred_prob_train': y_pred_prob_train,\n",
    "        'y_pred_prob_test': y_pred_prob_test,\n",
    "    }\n",
    "\n"
   ]
  }
 ],
 "metadata": {
  "kernelspec": {
   "display_name": "base",
   "language": "python",
   "name": "python3"
  },
  "language_info": {
   "codemirror_mode": {
    "name": "ipython",
    "version": 3
   },
   "file_extension": ".py",
   "mimetype": "text/x-python",
   "name": "python",
   "nbconvert_exporter": "python",
   "pygments_lexer": "ipython3",
   "version": "3.12.4"
  }
 },
 "nbformat": 4,
 "nbformat_minor": 2
}
